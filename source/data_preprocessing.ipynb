{
 "cells": [
  {
   "cell_type": "code",
   "execution_count": 1,
   "id": "660f4e37-9e82-418e-923f-f642c1857c64",
   "metadata": {},
   "outputs": [],
   "source": [
    "import numpy as np\n",
    "import pandas as pd\n",
    "import seaborn as sns\n",
    "import matplotlib.pyplot as plt\n",
    "from sklearn import preprocessing\n",
    "from sklearn.preprocessing import OneHotEncoder"
   ]
  },
  {
   "cell_type": "markdown",
   "id": "22d10573-17cc-4258-831c-0cee6297f1f4",
   "metadata": {},
   "source": [
    "# DATA PREPROCESSING"
   ]
  },
  {
   "cell_type": "markdown",
   "id": "718ae6e8-ef19-44de-9018-19d3673ae46c",
   "metadata": {},
   "source": [
    "1. SURVEY THE DATASET"
   ]
  },
  {
   "cell_type": "code",
   "execution_count": 2,
   "id": "f22be377-9854-47ef-88c5-26d27375d9d4",
   "metadata": {},
   "outputs": [],
   "source": [
    "dataFrame = pd.read_csv('amazon.csv')"
   ]
  },
  {
   "cell_type": "code",
   "execution_count": 3,
   "id": "a94f36c4-19d5-4aa3-a3a1-3aaca7820a37",
   "metadata": {},
   "outputs": [
    {
     "name": "stdout",
     "output_type": "stream",
     "text": [
      "<class 'pandas.core.frame.DataFrame'>\n",
      "RangeIndex: 551585 entries, 0 to 551584\n",
      "Data columns (total 12 columns):\n",
      " #   Column          Non-Null Count   Dtype \n",
      "---  ------          --------------   ----- \n",
      " 0   _               551585 non-null  int64 \n",
      " 1   id              551585 non-null  int64 \n",
      " 2   id_by_category  551585 non-null  int64 \n",
      " 3   name            551585 non-null  object\n",
      " 4   main_category   551585 non-null  object\n",
      " 5   sub_category    551585 non-null  object\n",
      " 6   image           551585 non-null  object\n",
      " 7   link            551585 non-null  object\n",
      " 8   ratings         375791 non-null  object\n",
      " 9   no_of_ratings   375791 non-null  object\n",
      " 10  discount_price  490422 non-null  object\n",
      " 11  actual_price    533772 non-null  object\n",
      "dtypes: int64(3), object(9)\n",
      "memory usage: 50.5+ MB\n"
     ]
    }
   ],
   "source": [
    "# Get the general information about the Amazon dataset.\n",
    "dataFrame.info()"
   ]
  },
  {
   "cell_type": "code",
   "execution_count": 4,
   "id": "462f7ae6-43a7-43df-b4ce-3ee1b7afe743",
   "metadata": {},
   "outputs": [
    {
     "data": {
      "text/plain": [
       "(551585, 12)"
      ]
     },
     "execution_count": 4,
     "metadata": {},
     "output_type": "execute_result"
    }
   ],
   "source": [
    "# Get the size of original dataset.\n",
    "dataFrame.shape"
   ]
  },
  {
   "cell_type": "code",
   "execution_count": 5,
   "id": "79128ac3-03c2-4b13-b81f-e3e7c86765a0",
   "metadata": {},
   "outputs": [
    {
     "data": {
      "text/plain": [
       "_                      0\n",
       "id                     0\n",
       "id_by_category         0\n",
       "name                   0\n",
       "main_category          0\n",
       "sub_category           0\n",
       "image                  0\n",
       "link                   0\n",
       "ratings           175794\n",
       "no_of_ratings     175794\n",
       "discount_price     61163\n",
       "actual_price       17813\n",
       "dtype: int64"
      ]
     },
     "execution_count": 5,
     "metadata": {},
     "output_type": "execute_result"
    }
   ],
   "source": [
    "# Count the NaN or Null (non-numeric value):\n",
    "dataFrame.isna().sum()"
   ]
  },
  {
   "cell_type": "code",
   "execution_count": 6,
   "id": "ca00b682-5fdc-4caa-9b9e-5256cadea264",
   "metadata": {},
   "outputs": [
    {
     "data": {
      "text/plain": [
       "_                 0\n",
       "id                0\n",
       "id_by_category    0\n",
       "name              0\n",
       "main_category     0\n",
       "sub_category      0\n",
       "image             0\n",
       "link              0\n",
       "ratings           0\n",
       "no_of_ratings     0\n",
       "discount_price    0\n",
       "actual_price      0\n",
       "dtype: int64"
      ]
     },
     "execution_count": 6,
     "metadata": {},
     "output_type": "execute_result"
    }
   ],
   "source": [
    "# Remove all the NaN or Null value from the dataset.\n",
    "dataFrame.dropna(axis=0,how=\"any\",inplace=True)\n",
    "dataFrame.isna().sum()"
   ]
  },
  {
   "cell_type": "code",
   "execution_count": 7,
   "id": "4f521623-65e4-433f-9ec6-f12997062dfc",
   "metadata": {},
   "outputs": [
    {
     "data": {
      "text/plain": [
       "(340680, 12)"
      ]
     },
     "execution_count": 7,
     "metadata": {},
     "output_type": "execute_result"
    }
   ],
   "source": [
    "# Get the size of dataset after removing NaN and Null values.\n",
    "dataFrame.shape"
   ]
  },
  {
   "cell_type": "code",
   "execution_count": 8,
   "id": "8a4564da-ceb1-459a-98b6-dca775936814",
   "metadata": {},
   "outputs": [
    {
     "data": {
      "text/plain": [
       "_                  int64\n",
       "id                 int64\n",
       "id_by_category     int64\n",
       "name              object\n",
       "main_category     object\n",
       "sub_category      object\n",
       "image             object\n",
       "link              object\n",
       "ratings           object\n",
       "no_of_ratings     object\n",
       "discount_price    object\n",
       "actual_price      object\n",
       "dtype: object"
      ]
     },
     "execution_count": 8,
     "metadata": {},
     "output_type": "execute_result"
    }
   ],
   "source": [
    "# Check the data types of each attribute\n",
    "dataFrame.dtypes"
   ]
  },
  {
   "cell_type": "code",
   "execution_count": 9,
   "id": "2df6f9cf-3717-4959-b52f-8895d6e1acc7",
   "metadata": {},
   "outputs": [
    {
     "data": {
      "text/html": [
       "<div>\n",
       "<style scoped>\n",
       "    .dataframe tbody tr th:only-of-type {\n",
       "        vertical-align: middle;\n",
       "    }\n",
       "\n",
       "    .dataframe tbody tr th {\n",
       "        vertical-align: top;\n",
       "    }\n",
       "\n",
       "    .dataframe thead th {\n",
       "        text-align: right;\n",
       "    }\n",
       "</style>\n",
       "<table border=\"1\" class=\"dataframe\">\n",
       "  <thead>\n",
       "    <tr style=\"text-align: right;\">\n",
       "      <th></th>\n",
       "      <th>name</th>\n",
       "      <th>main_category</th>\n",
       "      <th>sub_category</th>\n",
       "      <th>image</th>\n",
       "      <th>link</th>\n",
       "      <th>ratings</th>\n",
       "      <th>no_of_ratings</th>\n",
       "      <th>discount_price</th>\n",
       "      <th>actual_price</th>\n",
       "    </tr>\n",
       "  </thead>\n",
       "  <tbody>\n",
       "    <tr>\n",
       "      <th>0</th>\n",
       "      <td>Lloyd 1.5 Ton 3 Star Inverter Split Ac (5 In 1...</td>\n",
       "      <td>appliances</td>\n",
       "      <td>Air Conditioners</td>\n",
       "      <td>https://m.media-amazon.com/images/I/31UISB90sY...</td>\n",
       "      <td>https://www.amazon.in/Lloyd-Inverter-Convertib...</td>\n",
       "      <td>4.2</td>\n",
       "      <td>2,255</td>\n",
       "      <td>₹32,999</td>\n",
       "      <td>₹58,990</td>\n",
       "    </tr>\n",
       "    <tr>\n",
       "      <th>1</th>\n",
       "      <td>LG 1.5 Ton 5 Star AI DUAL Inverter Split AC (C...</td>\n",
       "      <td>appliances</td>\n",
       "      <td>Air Conditioners</td>\n",
       "      <td>https://m.media-amazon.com/images/I/51JFb7FctD...</td>\n",
       "      <td>https://www.amazon.in/LG-Convertible-Anti-Viru...</td>\n",
       "      <td>4.2</td>\n",
       "      <td>2,948</td>\n",
       "      <td>₹46,490</td>\n",
       "      <td>₹75,990</td>\n",
       "    </tr>\n",
       "    <tr>\n",
       "      <th>2</th>\n",
       "      <td>LG 1 Ton 4 Star Ai Dual Inverter Split Ac (Cop...</td>\n",
       "      <td>appliances</td>\n",
       "      <td>Air Conditioners</td>\n",
       "      <td>https://m.media-amazon.com/images/I/51JFb7FctD...</td>\n",
       "      <td>https://www.amazon.in/LG-Inverter-Convertible-...</td>\n",
       "      <td>4.2</td>\n",
       "      <td>1,206</td>\n",
       "      <td>₹34,490</td>\n",
       "      <td>₹61,990</td>\n",
       "    </tr>\n",
       "    <tr>\n",
       "      <th>3</th>\n",
       "      <td>LG 1.5 Ton 3 Star AI DUAL Inverter Split AC (C...</td>\n",
       "      <td>appliances</td>\n",
       "      <td>Air Conditioners</td>\n",
       "      <td>https://m.media-amazon.com/images/I/51JFb7FctD...</td>\n",
       "      <td>https://www.amazon.in/LG-Convertible-Anti-Viru...</td>\n",
       "      <td>4.0</td>\n",
       "      <td>69</td>\n",
       "      <td>₹37,990</td>\n",
       "      <td>₹68,990</td>\n",
       "    </tr>\n",
       "    <tr>\n",
       "      <th>4</th>\n",
       "      <td>Carrier 1.5 Ton 3 Star Inverter Split AC (Copp...</td>\n",
       "      <td>appliances</td>\n",
       "      <td>Air Conditioners</td>\n",
       "      <td>https://m.media-amazon.com/images/I/41lrtqXPiW...</td>\n",
       "      <td>https://www.amazon.in/Carrier-Inverter-Split-C...</td>\n",
       "      <td>4.1</td>\n",
       "      <td>630</td>\n",
       "      <td>₹34,490</td>\n",
       "      <td>₹67,790</td>\n",
       "    </tr>\n",
       "  </tbody>\n",
       "</table>\n",
       "</div>"
      ],
      "text/plain": [
       "                                                name main_category  \\\n",
       "0  Lloyd 1.5 Ton 3 Star Inverter Split Ac (5 In 1...    appliances   \n",
       "1  LG 1.5 Ton 5 Star AI DUAL Inverter Split AC (C...    appliances   \n",
       "2  LG 1 Ton 4 Star Ai Dual Inverter Split Ac (Cop...    appliances   \n",
       "3  LG 1.5 Ton 3 Star AI DUAL Inverter Split AC (C...    appliances   \n",
       "4  Carrier 1.5 Ton 3 Star Inverter Split AC (Copp...    appliances   \n",
       "\n",
       "       sub_category                                              image  \\\n",
       "0  Air Conditioners  https://m.media-amazon.com/images/I/31UISB90sY...   \n",
       "1  Air Conditioners  https://m.media-amazon.com/images/I/51JFb7FctD...   \n",
       "2  Air Conditioners  https://m.media-amazon.com/images/I/51JFb7FctD...   \n",
       "3  Air Conditioners  https://m.media-amazon.com/images/I/51JFb7FctD...   \n",
       "4  Air Conditioners  https://m.media-amazon.com/images/I/41lrtqXPiW...   \n",
       "\n",
       "                                                link ratings no_of_ratings  \\\n",
       "0  https://www.amazon.in/Lloyd-Inverter-Convertib...     4.2         2,255   \n",
       "1  https://www.amazon.in/LG-Convertible-Anti-Viru...     4.2         2,948   \n",
       "2  https://www.amazon.in/LG-Inverter-Convertible-...     4.2         1,206   \n",
       "3  https://www.amazon.in/LG-Convertible-Anti-Viru...     4.0            69   \n",
       "4  https://www.amazon.in/Carrier-Inverter-Split-C...     4.1           630   \n",
       "\n",
       "  discount_price actual_price  \n",
       "0        ₹32,999      ₹58,990  \n",
       "1        ₹46,490      ₹75,990  \n",
       "2        ₹34,490      ₹61,990  \n",
       "3        ₹37,990      ₹68,990  \n",
       "4        ₹34,490      ₹67,790  "
      ]
     },
     "execution_count": 9,
     "metadata": {},
     "output_type": "execute_result"
    }
   ],
   "source": [
    "# Remove the redundant attributes in the dataset.\n",
    "dataFrame.drop(dataFrame.columns[0:3], axis=1, inplace=True)\n",
    "dataFrame.head()"
   ]
  },
  {
   "cell_type": "markdown",
   "id": "6dd0840a-8074-4194-b140-11598a66efbc",
   "metadata": {},
   "source": [
    "2. PROCESS THE NUMERIC DATA"
   ]
  },
  {
   "cell_type": "code",
   "execution_count": 11,
   "id": "0997e879-d4df-4f3e-a740-803d19b68bdb",
   "metadata": {},
   "outputs": [
    {
     "name": "stdout",
     "output_type": "stream",
     "text": [
      ">>>>> Frequency of each value of column actual price: \n"
     ]
    },
    {
     "data": {
      "text/plain": [
       "actual_price\n",
       "999.0      34271\n",
       "1999.0     18527\n",
       "1499.0     13742\n",
       "499.0      10135\n",
       "1299.0     10027\n",
       "           ...  \n",
       "14470.0        1\n",
       "19180.0        1\n",
       "10580.0        1\n",
       "19033.0        1\n",
       "32120.0        1\n",
       "Name: count, Length: 9319, dtype: int64"
      ]
     },
     "execution_count": 11,
     "metadata": {},
     "output_type": "execute_result"
    }
   ],
   "source": [
    "# Transfer the actual price attribute from object to float.\n",
    "dataFrame['actual_price'] = dataFrame['actual_price'].str.replace('₹','')\n",
    "dataFrame['actual_price'] = dataFrame['actual_price'].str.replace(',','').astype('float64')\n",
    "\n",
    "print(\">>>>> Frequency of each value of column actual price: \")\n",
    "dataFrame[\"actual_price\"].value_counts()"
   ]
  },
  {
   "cell_type": "code",
   "execution_count": 12,
   "id": "929f54d1-83cf-48a9-9d12-0be9e05eaf55",
   "metadata": {},
   "outputs": [
    {
     "name": "stdout",
     "output_type": "stream",
     "text": [
      ">>>>> Frequency of each value of column discount price: \n"
     ]
    },
    {
     "data": {
      "text/plain": [
       "discount_price\n",
       "499.00     13352\n",
       "299.00     11361\n",
       "399.00     10528\n",
       "599.00      8468\n",
       "699.00      6490\n",
       "           ...  \n",
       "443.95         1\n",
       "3082.26        1\n",
       "1773.78        1\n",
       "1267.68        1\n",
       "651.01         1\n",
       "Name: count, Length: 16706, dtype: int64"
      ]
     },
     "execution_count": 12,
     "metadata": {},
     "output_type": "execute_result"
    }
   ],
   "source": [
    "# Transfer the discount price attribute from object to float.\n",
    "dataFrame['discount_price'] = dataFrame['discount_price'].str.replace('₹','')\n",
    "dataFrame['discount_price'] = dataFrame['discount_price'].str.replace(',','').astype('float64')\n",
    "\n",
    "print(\">>>>> Frequency of each value of column discount price: \")\n",
    "dataFrame[\"discount_price\"].value_counts()"
   ]
  },
  {
   "cell_type": "code",
   "execution_count": 13,
   "id": "b784f664-e822-4a8d-8c76-f558b0e8d870",
   "metadata": {},
   "outputs": [
    {
     "name": "stdout",
     "output_type": "stream",
     "text": [
      ">>>>> Frequency of each value of column number of ratings: \n"
     ]
    },
    {
     "data": {
      "text/plain": [
       "no_of_ratings\n",
       "1.0        35894\n",
       "2.0        22492\n",
       "3.0        16387\n",
       "4.0        13090\n",
       "5.0        10569\n",
       "           ...  \n",
       "16465.0        1\n",
       "16538.0        1\n",
       "6681.0         1\n",
       "3790.0         1\n",
       "7141.0         1\n",
       "Name: count, Length: 7771, dtype: int64"
      ]
     },
     "execution_count": 13,
     "metadata": {},
     "output_type": "execute_result"
    }
   ],
   "source": [
    "# Transfer the number of ratings attribute from object to float.\n",
    "dataFrame['no_of_ratings'] = dataFrame['no_of_ratings'].str.replace(',','')\n",
    "dataFrame['no_of_ratings'] = dataFrame['no_of_ratings'].str.replace('Only 1 left in stock.','|')\n",
    "dataFrame['no_of_ratings'] = dataFrame['no_of_ratings'].str.replace('Only 2 left in stock.','|')\n",
    "dataFrame['no_of_ratings'] = dataFrame['no_of_ratings'].str.replace('FREE Delivery by Amazon','0')\n",
    "dataFrame['no_of_ratings'] = dataFrame['no_of_ratings'].str.replace('Usually dispatched in 2 to 3 days.','|')\n",
    "dataFrame['no_of_ratings'] = dataFrame['no_of_ratings'].str.replace('Usually dispatched in 3 to 5 days.','|')\n",
    "dataFrame['no_of_ratings'] = dataFrame['no_of_ratings'].str.replace('Usually dispatched in 4 to 5 days.','|')\n",
    "dataFrame['no_of_ratings'] = dataFrame['no_of_ratings'].str.replace('Usually dispatched in 5 to 6 days.','|')\n",
    "dataFrame['no_of_ratings'] = dataFrame['no_of_ratings'].str.replace('Usually dispatched in 6 to 7 days.','|')\n",
    "dataFrame['no_of_ratings'] = dataFrame['no_of_ratings'].str.replace('Usually dispatched in 7 to 8 days.','|')\n",
    "dataFrame['no_of_ratings'] = dataFrame['no_of_ratings'].str.replace('Usually dispatched in 8 to 9 days.','|')\n",
    "dataFrame['no_of_ratings'] = dataFrame['no_of_ratings'].str.replace('Usually dispatched in 11 to 12 days.','|')\n",
    "dataFrame['no_of_ratings'] = dataFrame['no_of_ratings'].str.replace('Usually dispatched in 2 to 3 weeks.','|')\n",
    "dataFrame['no_of_ratings'] = dataFrame['no_of_ratings'].str.replace('Usually dispatched in 3 to 4 weeks.','|')\n",
    "dataFrame['no_of_ratings'] = dataFrame['no_of_ratings'].str.replace('Usually dispatched in 4 to 5 weeks.','|')\n",
    "dataFrame['no_of_ratings'] = dataFrame['no_of_ratings'].str.replace('Usually dispatched in 1 to 2 months.','|')\n",
    "dataFrame['no_of_ratings'] = dataFrame['no_of_ratings'].str.replace('Only 3 left in stock.','|')\n",
    "dataFrame['no_of_ratings'] = dataFrame['no_of_ratings'].str.replace('Only 4 left in stock.','|')\n",
    "dataFrame['no_of_ratings'] = dataFrame['no_of_ratings'].str.replace('Only 5 left in stock.','|')\n",
    "dataFrame['no_of_ratings'] = dataFrame['no_of_ratings'].str.replace('This item will be released on August 14 2023.','|')\n",
    "\n",
    "dataFrame = dataFrame.drop(dataFrame[dataFrame[\"no_of_ratings\"] == \"|\"].index)\n",
    "\n",
    "dataFrame['no_of_ratings'] = dataFrame['no_of_ratings'].astype('float64')\n",
    "\n",
    "print(\">>>>> Frequency of each value of column number of ratings: \")\n",
    "dataFrame[\"no_of_ratings\"].value_counts()"
   ]
  },
  {
   "cell_type": "code",
   "execution_count": 14,
   "id": "66a9f093-c670-4889-bff6-180b00f25a7e",
   "metadata": {},
   "outputs": [
    {
     "name": "stdout",
     "output_type": "stream",
     "text": [
      ">>>>> Frequency of each value of column ratings: \n"
     ]
    },
    {
     "data": {
      "text/plain": [
       "ratings\n",
       "4.0    33498\n",
       "5.0    29163\n",
       "3.9    25111\n",
       "3.8    23533\n",
       "4.1    22424\n",
       "3.7    20695\n",
       "4.2    19305\n",
       "3.6    18263\n",
       "3.5    16523\n",
       "4.3    15229\n",
       "3.4    12258\n",
       "4.4    11606\n",
       "3.0    10978\n",
       "4.5    10322\n",
       "3.3    10285\n",
       "3.2     7658\n",
       "1.0     7388\n",
       "4.6     6717\n",
       "3.1     6080\n",
       "4.7     4312\n",
       "2.9     3850\n",
       "2.0     2883\n",
       "2.8     2842\n",
       "2.7     2364\n",
       "2.5     2287\n",
       "4.8     1934\n",
       "2.6     1896\n",
       "2.4     1157\n",
       "2.3      904\n",
       "2.2      696\n",
       "2.1      584\n",
       "1.5      473\n",
       "4.9      443\n",
       "1.9      328\n",
       "1.8      289\n",
       "1.7      214\n",
       "1.4      197\n",
       "1.6      162\n",
       "1.3       85\n",
       "1.2       26\n",
       "1.1        1\n",
       "Name: count, dtype: int64"
      ]
     },
     "execution_count": 14,
     "metadata": {},
     "output_type": "execute_result"
    }
   ],
   "source": [
    "# Transfer the ratings attribute from object to float.\n",
    "dataFrame['ratings'] = dataFrame['ratings'].str.replace('Get','|')\n",
    "dataFrame['ratings'] = dataFrame['ratings'].str.replace('FREE','|')\n",
    "dataFrame['ratings'] = dataFrame['ratings'].str.replace('₹99','|')\n",
    "dataFrame['ratings'] = dataFrame['ratings'].str.replace('₹70','|')\n",
    "dataFrame['ratings'] = dataFrame['ratings'].str.replace('₹2.99','|')\n",
    "dataFrame['ratings'] = dataFrame['ratings'].str.replace('₹65','|')\n",
    "dataFrame['ratings'] = dataFrame['ratings'].str.replace('₹100','|')\n",
    "\n",
    "dataFrame = dataFrame.drop(dataFrame[dataFrame[\"ratings\"] == \"|\"].index)\n",
    "\n",
    "dataFrame['ratings'] = dataFrame['ratings'].astype('float64')\n",
    "\n",
    "print(\">>>>> Frequency of each value of column ratings: \")\n",
    "dataFrame[\"ratings\"].value_counts()"
   ]
  },
  {
   "cell_type": "code",
   "execution_count": 15,
   "id": "197b87a5-f8a2-4002-8e89-7ada28336539",
   "metadata": {},
   "outputs": [
    {
     "data": {
      "text/html": [
       "<div>\n",
       "<style scoped>\n",
       "    .dataframe tbody tr th:only-of-type {\n",
       "        vertical-align: middle;\n",
       "    }\n",
       "\n",
       "    .dataframe tbody tr th {\n",
       "        vertical-align: top;\n",
       "    }\n",
       "\n",
       "    .dataframe thead th {\n",
       "        text-align: right;\n",
       "    }\n",
       "</style>\n",
       "<table border=\"1\" class=\"dataframe\">\n",
       "  <thead>\n",
       "    <tr style=\"text-align: right;\">\n",
       "      <th></th>\n",
       "      <th>name</th>\n",
       "      <th>main_category</th>\n",
       "      <th>sub_category</th>\n",
       "      <th>image</th>\n",
       "      <th>link</th>\n",
       "      <th>ratings</th>\n",
       "      <th>no_of_ratings</th>\n",
       "      <th>discount_price</th>\n",
       "      <th>actual_price</th>\n",
       "    </tr>\n",
       "  </thead>\n",
       "  <tbody>\n",
       "    <tr>\n",
       "      <th>0</th>\n",
       "      <td>Lloyd 1.5 Ton 3 Star Inverter Split Ac (5 In 1...</td>\n",
       "      <td>appliances</td>\n",
       "      <td>Air Conditioners</td>\n",
       "      <td>https://m.media-amazon.com/images/I/31UISB90sY...</td>\n",
       "      <td>https://www.amazon.in/Lloyd-Inverter-Convertib...</td>\n",
       "      <td>4.2</td>\n",
       "      <td>2255.0</td>\n",
       "      <td>32999.0</td>\n",
       "      <td>58990.0</td>\n",
       "    </tr>\n",
       "    <tr>\n",
       "      <th>1</th>\n",
       "      <td>LG 1.5 Ton 5 Star AI DUAL Inverter Split AC (C...</td>\n",
       "      <td>appliances</td>\n",
       "      <td>Air Conditioners</td>\n",
       "      <td>https://m.media-amazon.com/images/I/51JFb7FctD...</td>\n",
       "      <td>https://www.amazon.in/LG-Convertible-Anti-Viru...</td>\n",
       "      <td>4.2</td>\n",
       "      <td>2948.0</td>\n",
       "      <td>46490.0</td>\n",
       "      <td>75990.0</td>\n",
       "    </tr>\n",
       "    <tr>\n",
       "      <th>2</th>\n",
       "      <td>LG 1 Ton 4 Star Ai Dual Inverter Split Ac (Cop...</td>\n",
       "      <td>appliances</td>\n",
       "      <td>Air Conditioners</td>\n",
       "      <td>https://m.media-amazon.com/images/I/51JFb7FctD...</td>\n",
       "      <td>https://www.amazon.in/LG-Inverter-Convertible-...</td>\n",
       "      <td>4.2</td>\n",
       "      <td>1206.0</td>\n",
       "      <td>34490.0</td>\n",
       "      <td>61990.0</td>\n",
       "    </tr>\n",
       "    <tr>\n",
       "      <th>3</th>\n",
       "      <td>LG 1.5 Ton 3 Star AI DUAL Inverter Split AC (C...</td>\n",
       "      <td>appliances</td>\n",
       "      <td>Air Conditioners</td>\n",
       "      <td>https://m.media-amazon.com/images/I/51JFb7FctD...</td>\n",
       "      <td>https://www.amazon.in/LG-Convertible-Anti-Viru...</td>\n",
       "      <td>4.0</td>\n",
       "      <td>69.0</td>\n",
       "      <td>37990.0</td>\n",
       "      <td>68990.0</td>\n",
       "    </tr>\n",
       "    <tr>\n",
       "      <th>4</th>\n",
       "      <td>Carrier 1.5 Ton 3 Star Inverter Split AC (Copp...</td>\n",
       "      <td>appliances</td>\n",
       "      <td>Air Conditioners</td>\n",
       "      <td>https://m.media-amazon.com/images/I/41lrtqXPiW...</td>\n",
       "      <td>https://www.amazon.in/Carrier-Inverter-Split-C...</td>\n",
       "      <td>4.1</td>\n",
       "      <td>630.0</td>\n",
       "      <td>34490.0</td>\n",
       "      <td>67790.0</td>\n",
       "    </tr>\n",
       "    <tr>\n",
       "      <th>5</th>\n",
       "      <td>Voltas 1.4 Ton 3 Star Inverter Split AC(Copper...</td>\n",
       "      <td>appliances</td>\n",
       "      <td>Air Conditioners</td>\n",
       "      <td>https://m.media-amazon.com/images/I/41TuyxwZ9m...</td>\n",
       "      <td>https://www.amazon.in/Voltas-Adjustable-173V-V...</td>\n",
       "      <td>4.0</td>\n",
       "      <td>1666.0</td>\n",
       "      <td>31990.0</td>\n",
       "      <td>70990.0</td>\n",
       "    </tr>\n",
       "    <tr>\n",
       "      <th>6</th>\n",
       "      <td>Lloyd 1.0 Ton 3 Star Inverter Split Ac (5 In 1...</td>\n",
       "      <td>appliances</td>\n",
       "      <td>Air Conditioners</td>\n",
       "      <td>https://m.media-amazon.com/images/I/31IXlxIPsO...</td>\n",
       "      <td>https://www.amazon.in/Lloyd-Inverter-Convertib...</td>\n",
       "      <td>4.2</td>\n",
       "      <td>1097.0</td>\n",
       "      <td>29999.0</td>\n",
       "      <td>49990.0</td>\n",
       "    </tr>\n",
       "    <tr>\n",
       "      <th>7</th>\n",
       "      <td>Lloyd 1.5 Ton 5 Star Inverter Split Ac (5 In 1...</td>\n",
       "      <td>appliances</td>\n",
       "      <td>Air Conditioners</td>\n",
       "      <td>https://m.media-amazon.com/images/I/31IXlxIPsO...</td>\n",
       "      <td>https://www.amazon.in/Lloyd-Inverter-Convertib...</td>\n",
       "      <td>4.3</td>\n",
       "      <td>1494.0</td>\n",
       "      <td>39990.0</td>\n",
       "      <td>67990.0</td>\n",
       "    </tr>\n",
       "    <tr>\n",
       "      <th>8</th>\n",
       "      <td>Carrier 1 Ton 3 Star AI Flexicool Inverter Spl...</td>\n",
       "      <td>appliances</td>\n",
       "      <td>Air Conditioners</td>\n",
       "      <td>https://m.media-amazon.com/images/I/51sTXvsanQ...</td>\n",
       "      <td>https://www.amazon.in/Carrier-Flexicool-Invert...</td>\n",
       "      <td>4.1</td>\n",
       "      <td>674.0</td>\n",
       "      <td>30990.0</td>\n",
       "      <td>58190.0</td>\n",
       "    </tr>\n",
       "    <tr>\n",
       "      <th>9</th>\n",
       "      <td>Voltas 1.5 Ton, 5 Star, Inverter Split AC(Copp...</td>\n",
       "      <td>appliances</td>\n",
       "      <td>Air Conditioners</td>\n",
       "      <td>https://m.media-amazon.com/images/I/51WQ3nWF0v...</td>\n",
       "      <td>https://www.amazon.in/Voltas-Inverter-Split-Co...</td>\n",
       "      <td>4.0</td>\n",
       "      <td>801.0</td>\n",
       "      <td>37999.0</td>\n",
       "      <td>73990.0</td>\n",
       "    </tr>\n",
       "  </tbody>\n",
       "</table>\n",
       "</div>"
      ],
      "text/plain": [
       "                                                name main_category  \\\n",
       "0  Lloyd 1.5 Ton 3 Star Inverter Split Ac (5 In 1...    appliances   \n",
       "1  LG 1.5 Ton 5 Star AI DUAL Inverter Split AC (C...    appliances   \n",
       "2  LG 1 Ton 4 Star Ai Dual Inverter Split Ac (Cop...    appliances   \n",
       "3  LG 1.5 Ton 3 Star AI DUAL Inverter Split AC (C...    appliances   \n",
       "4  Carrier 1.5 Ton 3 Star Inverter Split AC (Copp...    appliances   \n",
       "5  Voltas 1.4 Ton 3 Star Inverter Split AC(Copper...    appliances   \n",
       "6  Lloyd 1.0 Ton 3 Star Inverter Split Ac (5 In 1...    appliances   \n",
       "7  Lloyd 1.5 Ton 5 Star Inverter Split Ac (5 In 1...    appliances   \n",
       "8  Carrier 1 Ton 3 Star AI Flexicool Inverter Spl...    appliances   \n",
       "9  Voltas 1.5 Ton, 5 Star, Inverter Split AC(Copp...    appliances   \n",
       "\n",
       "       sub_category                                              image  \\\n",
       "0  Air Conditioners  https://m.media-amazon.com/images/I/31UISB90sY...   \n",
       "1  Air Conditioners  https://m.media-amazon.com/images/I/51JFb7FctD...   \n",
       "2  Air Conditioners  https://m.media-amazon.com/images/I/51JFb7FctD...   \n",
       "3  Air Conditioners  https://m.media-amazon.com/images/I/51JFb7FctD...   \n",
       "4  Air Conditioners  https://m.media-amazon.com/images/I/41lrtqXPiW...   \n",
       "5  Air Conditioners  https://m.media-amazon.com/images/I/41TuyxwZ9m...   \n",
       "6  Air Conditioners  https://m.media-amazon.com/images/I/31IXlxIPsO...   \n",
       "7  Air Conditioners  https://m.media-amazon.com/images/I/31IXlxIPsO...   \n",
       "8  Air Conditioners  https://m.media-amazon.com/images/I/51sTXvsanQ...   \n",
       "9  Air Conditioners  https://m.media-amazon.com/images/I/51WQ3nWF0v...   \n",
       "\n",
       "                                                link  ratings  no_of_ratings  \\\n",
       "0  https://www.amazon.in/Lloyd-Inverter-Convertib...      4.2         2255.0   \n",
       "1  https://www.amazon.in/LG-Convertible-Anti-Viru...      4.2         2948.0   \n",
       "2  https://www.amazon.in/LG-Inverter-Convertible-...      4.2         1206.0   \n",
       "3  https://www.amazon.in/LG-Convertible-Anti-Viru...      4.0           69.0   \n",
       "4  https://www.amazon.in/Carrier-Inverter-Split-C...      4.1          630.0   \n",
       "5  https://www.amazon.in/Voltas-Adjustable-173V-V...      4.0         1666.0   \n",
       "6  https://www.amazon.in/Lloyd-Inverter-Convertib...      4.2         1097.0   \n",
       "7  https://www.amazon.in/Lloyd-Inverter-Convertib...      4.3         1494.0   \n",
       "8  https://www.amazon.in/Carrier-Flexicool-Invert...      4.1          674.0   \n",
       "9  https://www.amazon.in/Voltas-Inverter-Split-Co...      4.0          801.0   \n",
       "\n",
       "   discount_price  actual_price  \n",
       "0         32999.0       58990.0  \n",
       "1         46490.0       75990.0  \n",
       "2         34490.0       61990.0  \n",
       "3         37990.0       68990.0  \n",
       "4         34490.0       67790.0  \n",
       "5         31990.0       70990.0  \n",
       "6         29999.0       49990.0  \n",
       "7         39990.0       67990.0  \n",
       "8         30990.0       58190.0  \n",
       "9         37999.0       73990.0  "
      ]
     },
     "execution_count": 15,
     "metadata": {},
     "output_type": "execute_result"
    }
   ],
   "source": [
    "# Review dataset after preprocessing.\n",
    "dataFrame.head(10)"
   ]
  },
  {
   "cell_type": "code",
   "execution_count": 16,
   "id": "7302b039-580d-42e3-9613-31e1968b9865",
   "metadata": {},
   "outputs": [],
   "source": [
    "# Export the dataser after cleaning the values.\n",
    "# writer = pd.ExcelWriter(r\"preprocessing_amazon.xlsx\", engine='xlsxwriter', engine_kwargs={'options': {'strings_to_urls': False}})\n",
    "# dataFrame.to_excel(writer, index=False)\n",
    "# writer.close()"
   ]
  },
  {
   "cell_type": "code",
   "execution_count": null,
   "id": "36bbaf0e-8ed2-43a4-a4ae-3dc589e31fef",
   "metadata": {},
   "outputs": [],
   "source": []
  }
 ],
 "metadata": {
  "kernelspec": {
   "display_name": "Python 3 (ipykernel)",
   "language": "python",
   "name": "python3"
  },
  "language_info": {
   "codemirror_mode": {
    "name": "ipython",
    "version": 3
   },
   "file_extension": ".py",
   "mimetype": "text/x-python",
   "name": "python",
   "nbconvert_exporter": "python",
   "pygments_lexer": "ipython3",
   "version": "3.12.0"
  }
 },
 "nbformat": 4,
 "nbformat_minor": 5
}
